{
 "cells": [
  {
   "cell_type": "code",
   "execution_count": 33,
   "metadata": {},
   "outputs": [
    {
     "data": {
      "text/plain": [
       "<module 'renderer.transform' from 'C:\\\\Users\\\\Nalu Zou\\\\Documents\\\\Self study\\\\CV\\\\Ch2 exercises\\\\renderer\\\\transform.py'>"
      ]
     },
     "execution_count": 33,
     "metadata": {},
     "output_type": "execute_result"
    }
   ],
   "source": [
    "import numpy as np\n",
    "import math\n",
    "from importlib import reload\n",
    "import matplotlib.pyplot as plt\n",
    "\n",
    "from renderer import rasterize , renderer, transform\n",
    "\n",
    "reload(rasterize)\n",
    "reload(renderer)\n",
    "reload(transform)"
   ]
  },
  {
   "cell_type": "code",
   "execution_count": 11,
   "metadata": {},
   "outputs": [
    {
     "name": "stdout",
     "output_type": "stream",
     "text": [
      "[[0.5       ]\n",
      " [0.70710678]\n",
      " [1.5       ]]\n"
     ]
    }
   ],
   "source": [
    "p = np.array([\n",
    "    [1],\n",
    "    [0],\n",
    "    [1]\n",
    "])\n",
    "print(transform.rotate(p, math.pi / 4, 0, math.pi / 4))"
   ]
  },
  {
   "cell_type": "code",
   "execution_count": 29,
   "metadata": {},
   "outputs": [
    {
     "name": "stdout",
     "output_type": "stream",
     "text": [
      "0\n"
     ]
    }
   ],
   "source": [
    "print(rasterize.edge_func(25, 75, [75, 25], [25, 75]))"
   ]
  },
  {
   "cell_type": "code",
   "execution_count": 39,
   "metadata": {},
   "outputs": [
    {
     "data": {
      "text/plain": [
       "<matplotlib.image.AxesImage at 0x1e4a15c9400>"
      ]
     },
     "execution_count": 39,
     "metadata": {},
     "output_type": "execute_result"
    },
    {
     "data": {
      "image/png": "[encoded data removed]",
      "text/plain": [
       "<Figure size 432x288 with 1 Axes>"
      ]
     },
     "metadata": {
      "needs_background": "light"
     },
     "output_type": "display_data"
    }
   ],
   "source": [
    "points = [\n",
    "    [0.5, -0.5, 1],\n",
    "    [0.5, 0.5, 1],\n",
    "    [-0.5, 0.5, 1],\n",
    "    [-0.5, -0.5, 1]\n",
    "]\n",
    "\n",
    "triangles = [\n",
    "    [0, 1, 2],\n",
    "    [0, 2, 3]\n",
    "]\n",
    "\n",
    "canvas = renderer.render(points, triangles, math.pi/4, 0, math.pi/4, -1, 1, -1, 1, 100, 100)\n",
    "plt.imshow(canvas, cmap=\"gray\")"
   ]
  }
 ],
 "metadata": {
  "kernelspec": {
   "display_name": "Python 3",
   "language": "python",
   "name": "python3"
  },
  "language_info": {
   "codemirror_mode": {
    "name": "ipython",
    "version": 3
   },
   "file_extension": ".py",
   "mimetype": "text/x-python",
   "name": "python",
   "nbconvert_exporter": "python",
   "pygments_lexer": "ipython3",
   "version": "3.8.3"
  }
 },
 "nbformat": 4,
 "nbformat_minor": 4
}
