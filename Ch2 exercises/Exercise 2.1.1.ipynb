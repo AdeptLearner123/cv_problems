{
 "cells": [
  {
   "cell_type": "code",
   "execution_count": 4,
   "metadata": {},
   "outputs": [],
   "source": [
    "import numpy as np\n",
    "\n",
    "def null(A, eps=1e-15):\n",
    "    u, s, vh = np.linalg.svd(A)\n",
    "    null_space = np.compress(s <= eps, vh, axis=0)\n",
    "    return null_space.T"
   ]
  },
  {
   "cell_type": "code",
   "execution_count": 5,
   "metadata": {},
   "outputs": [
    {
     "name": "stdout",
     "output_type": "stream",
     "text": [
      "[[ 0.35525278]\n",
      " [-0.82809746]\n",
      " [ 0.43364738]]\n"
     ]
    }
   ],
   "source": [
    "A = np.array([\n",
    "    [1, 2, 3],\n",
    "    [2, 4, 6],\n",
    "    [3, 6, 9]\n",
    "])\n",
    "print(null(A))"
   ]
  },
  {
   "cell_type": "code",
   "execution_count": 18,
   "metadata": {},
   "outputs": [
    {
     "name": "stdout",
     "output_type": "stream",
     "text": [
      "[[0.75]]\n",
      "[[3.]]\n"
     ]
    }
   ],
   "source": [
    "M = np.array([\n",
    "    [2, 0, 0],\n",
    "    [0, 2, -1],\n",
    "    [0, -1, 3]\n",
    "])\n",
    "x = np.array([\n",
    "    [0],\n",
    "    [0.5],\n",
    "    [0.5]\n",
    "])\n",
    "\n",
    "L = np.matmul(np.transpose(x), np.matmul(M, x))\n",
    "print(L)\n",
    "print(L / x[2] / x[2])"
   ]
  },
  {
   "cell_type": "code",
   "execution_count": 39,
   "metadata": {},
   "outputs": [
    {
     "name": "stdout",
     "output_type": "stream",
     "text": [
      "[[1.         0.        ]\n",
      " [0.         0.4472136 ]\n",
      " [0.         0.89442719]]\n",
      "[[inf 0. ]\n",
      " [nan 0.5]\n",
      " [nan 1. ]]\n"
     ]
    },
    {
     "name": "stderr",
     "output_type": "stream",
     "text": [
      "<ipython-input-39-529be6602f33>:10: RuntimeWarning: divide by zero encountered in true_divide\n",
      "  print(r / r[2])\n",
      "<ipython-input-39-529be6602f33>:10: RuntimeWarning: invalid value encountered in true_divide\n",
      "  print(r / r[2])\n"
     ]
    }
   ],
   "source": [
    "import math\n",
    "from scipy.linalg import null_space\n",
    "\n",
    "def closest_pt(lines):\n",
    "    A = np.array(lines)\n",
    "    M = np.matmul(np.transpose(A), A)\n",
    "    M = M[:-1, :]\n",
    "    r = null_space(M)\n",
    "    print(r)\n",
    "    #print(r / r[2])\n",
    "\n",
    "#closest_pt([[0, 1, 0], [1, 0, 0], [math.sqrt(2) / 2, math.sqrt(2) / 2, -math.sqrt(2)]])\n",
    "#closest_pt([[0, 1, 0], [1, 0, 1], [0, 1, -1], [1, 0, -1]])\n",
    "#closest_pt([[0, 1, 0], [0, 1, -1]])"
   ]
  },
  {
   "cell_type": "code",
   "execution_count": 105,
   "metadata": {},
   "outputs": [
    {
     "name": "stdout",
     "output_type": "stream",
     "text": [
      "Centered [[-1.6 -3.3]\n",
      " [ 0.4  0.7]\n",
      " [-2.6 -6.3]\n",
      " [ 1.4  3.7]\n",
      " [ 2.4  5.2]]\n",
      "C [[17.2 39.6]\n",
      " [39.6 91.8]]\n",
      "Line slope:  -0.43183907069679817\n",
      "line:  [[0.39645218]\n",
      " [0.91805537]]\n",
      "[[-3.66390622]\n",
      " [ 0.80121963]\n",
      " [-6.81452452]\n",
      " [ 3.95183793]\n",
      " [ 5.72537317]]\n",
      "[[43.17397029]\n",
      " [99.97698962]]\n",
      "Null []\n",
      "[[4.31739703e+01]\n",
      " [9.99769896e+01]\n",
      " [6.39336836e-16]]\n"
     ]
    },
    {
     "data": {
      "text/plain": [
       "[<matplotlib.lines.Line2D at 0x257aedd7f40>]"
      ]
     },
     "execution_count": 105,
     "metadata": {},
     "output_type": "execute_result"
    },
    {
     "data": {
      "image/png": "[encoded data removed]",
      "text/plain": [
       "<Figure size 432x288 with 1 Axes>"
      ]
     },
     "metadata": {
      "needs_background": "light"
     },
     "output_type": "display_data"
    }
   ],
   "source": [
    "from numpy.linalg import eigh, inv\n",
    "import matplotlib.pyplot as plt\n",
    "\n",
    "P = np.array([\n",
    "    [-1, -2],\n",
    "    [1, 2],\n",
    "    [-2, -5],\n",
    "    [2, 5],\n",
    "    [3, 6.5]\n",
    "])\n",
    "\n",
    "\"\"\"\n",
    "P = np.array([\n",
    "    [-1, -2],\n",
    "    [0, 0],\n",
    "    [0.5, 1]\n",
    "])\n",
    "\"\"\"\n",
    "means = np.mean(P, axis=0)\n",
    "P = P - means\n",
    "C = np.matmul(np.transpose(P), P)\n",
    "print(\"Centered\", P)\n",
    "print(\"C\", C)\n",
    "w, v = eigh(C)\n",
    "\n",
    "v_max = v[:, 0]\n",
    "print(\"Line slope: \", v_max[1] / v_max[0])\n",
    "l = np.array([\n",
    "    [v_max[1]],\n",
    "    [-v_max[0]],\n",
    "    [0]\n",
    "])\n",
    "print(\"line: \", l[:2])\n",
    "print(P @ l[:2])\n",
    "print(C @ l[:2])\n",
    "print(\"Null\", null_space(C))\n",
    "\n",
    "ones = np.ones((P.shape[0], 1))\n",
    "P_homo = np.hstack((P, ones))\n",
    "print(np.transpose(P_homo) @ P_homo @ l)\n",
    "\n",
    "plt.scatter(P[:,0], P[:,1])\n",
    "plt.plot([-7, 7], [-7 * v_max[1] / v_max[0], 7 * v_max[1] / v_max[0]])"
   ]
  },
  {
   "cell_type": "code",
   "execution_count": 102,
   "metadata": {},
   "outputs": [
    {
     "name": "stdout",
     "output_type": "stream",
     "text": [
      "2.3023255813953485\n",
      "[[-3.55271368e-15]\n",
      " [-2.72727273e-01]]\n"
     ]
    },
    {
     "data": {
      "text/plain": [
       "[<matplotlib.lines.Line2D at 0x257aea7c8e0>]"
      ]
     },
     "execution_count": 102,
     "metadata": {},
     "output_type": "execute_result"
    },
    {
     "data": {
      "image/png": "[encoded data removed]",
      "text/plain": [
       "<Figure size 432x288 with 1 Axes>"
      ]
     },
     "metadata": {
      "needs_background": "light"
     },
     "output_type": "display_data"
    }
   ],
   "source": [
    "x = P[:, 0]\n",
    "y = P[:, 1]\n",
    "b = np.dot(x, y) / np.dot(x, x)\n",
    "print(b)\n",
    "\n",
    "l2 = np.array([\n",
    "    [1],\n",
    "    [-1/b]\n",
    "])\n",
    "print(C @ l2)\n",
    "\n",
    "plt.scatter(P[:,0], P[:,1])\n",
    "plt.plot([-7, 7], [-7 * b, 7 * b])"
   ]
  }
 ],
 "metadata": {
  "kernelspec": {
   "display_name": "Python 3",
   "language": "python",
   "name": "python3"
  },
  "language_info": {
   "codemirror_mode": {
    "name": "ipython",
    "version": 3
   },
   "file_extension": ".py",
   "mimetype": "text/x-python",
   "name": "python",
   "nbconvert_exporter": "python",
   "pygments_lexer": "ipython3",
   "version": "3.8.3"
  }
 },
 "nbformat": 4,
 "nbformat_minor": 4
}
